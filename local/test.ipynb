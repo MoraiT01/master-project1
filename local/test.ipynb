{
 "cells": [
  {
   "cell_type": "code",
   "execution_count": 22,
   "id": "60321e03",
   "metadata": {},
   "outputs": [],
   "source": [
    "from torch.utils.data import Dataset\n",
    "import random\n",
    "\n",
    "class MixedDataset(Dataset):\n",
    "    def __init__(self, datasets_forget, datasets_retain, ratio: float = 1.0):\n",
    "        self.forget = datasets_forget\n",
    "        self.retain = datasets_retain\n",
    "        self.ratio = int(len(datasets_forget) * ratio + 0.5)\n",
    "\n",
    "    def __getitem__(self, i):\n",
    "\n",
    "        threshold = len(self.forget)\n",
    "        if i < threshold:\n",
    "            return self.forget[i]\n",
    "        else:\n",
    "            return self.retain[random.randint(0, len(self.retain) - 1)]\n",
    "\n",
    "    def __len__(self):\n",
    "        return len(self.forget) + self.ratio"
   ]
  },
  {
   "cell_type": "code",
   "execution_count": 51,
   "id": "d6c62282",
   "metadata": {},
   "outputs": [
    {
     "data": {
      "text/plain": [
       "4"
      ]
     },
     "execution_count": 51,
     "metadata": {},
     "output_type": "execute_result"
    }
   ],
   "source": [
    "dataset1 = {0: (2, 1), 1: 4}\n",
    "dataset2 = {0: 2, 1: 4}\n",
    "\n",
    "mixed = MixedDataset(dataset1, dataset2)\n",
    "len(mixed)"
   ]
  },
  {
   "cell_type": "code",
   "execution_count": 50,
   "id": "b3059d5a",
   "metadata": {},
   "outputs": [
    {
     "data": {
      "text/plain": [
       "4"
      ]
     },
     "execution_count": 50,
     "metadata": {},
     "output_type": "execute_result"
    }
   ],
   "source": [
    "mixed.__getitem__(1)"
   ]
  }
 ],
 "metadata": {
  "kernelspec": {
   "display_name": "bach.conda",
   "language": "python",
   "name": "python3"
  },
  "language_info": {
   "codemirror_mode": {
    "name": "ipython",
    "version": 3
   },
   "file_extension": ".py",
   "mimetype": "text/x-python",
   "name": "python",
   "nbconvert_exporter": "python",
   "pygments_lexer": "ipython3",
   "version": "3.12.5"
  }
 },
 "nbformat": 4,
 "nbformat_minor": 5
}
